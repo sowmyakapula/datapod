{
 "cells": [
  {
   "cell_type": "markdown",
   "metadata": {
    "colab_type": "text",
    "id": "Tia3MP1SJpgj"
   },
   "source": [
    "# Springboard Data Science Career Track Unit 4 Challenge - Tier 3 Complete\n",
    "\n",
    "## Objectives\n",
    "Hey! Great job getting through those challenging DataCamp courses. You're learning a lot in a short span of time. \n",
    "\n",
    "In this notebook, you're going to apply the skills you've been learning, bridging the gap between the controlled environment of DataCamp and the *slightly* messier work that data scientists do with actual datasets!\n",
    "\n",
    "Here’s the mystery we’re going to solve: ***which boroughs of London have seen the greatest increase in housing prices, on average, over the last two decades?***\n",
    "\n",
    "\n",
    "A borough is just a fancy word for district. You may be familiar with the five boroughs of New York… well, there are 32 boroughs within Greater London [(here's some info for the curious)](https://en.wikipedia.org/wiki/London_boroughs). Some of them are more desirable areas to live in, and the data will reflect that with a greater rise in housing prices.\n",
    "\n",
    "***This is the Tier 3 notebook, which means it's not filled in at all: we'll just give you the skeleton of a project, the brief and the data. It's up to you to play around with it and see what you can find out! Good luck! If you struggle, feel free to look at easier tiers for help; but try to dip in and out of them, as the more independent work you do, the better it is for your learning!***\n",
    "\n",
    "This challenge will make use of only what you learned in the following DataCamp courses: \n",
    "- Prework courses (Introduction to Python for Data Science, Intermediate Python for Data Science)\n",
    "- Data Types for Data Science\n",
    "- Python Data Science Toolbox (Part One) \n",
    "- pandas Foundations\n",
    "- Manipulating DataFrames with pandas\n",
    "- Merging DataFrames with pandas\n",
    "\n",
    "Of the tools, techniques and concepts in the above DataCamp courses, this challenge should require the application of the following: \n",
    "- **pandas**\n",
    "    - **data ingestion and inspection** (pandas Foundations, Module One) \n",
    "    - **exploratory data analysis** (pandas Foundations, Module Two)\n",
    "    - **tidying and cleaning** (Manipulating DataFrames with pandas, Module Three) \n",
    "    - **transforming DataFrames** (Manipulating DataFrames with pandas, Module One)\n",
    "    - **subsetting DataFrames with lists** (Manipulating DataFrames with pandas, Module One) \n",
    "    - **filtering DataFrames** (Manipulating DataFrames with pandas, Module One) \n",
    "    - **grouping data** (Manipulating DataFrames with pandas, Module Four) \n",
    "    - **melting data** (Manipulating DataFrames with pandas, Module Three) \n",
    "    - **advanced indexing** (Manipulating DataFrames with pandas, Module Four) \n",
    "- **matplotlib** (Intermediate Python for Data Science, Module One)\n",
    "- **fundamental data types** (Data Types for Data Science, Module One) \n",
    "- **dictionaries** (Intermediate Python for Data Science, Module Two)\n",
    "- **handling dates and times** (Data Types for Data Science, Module Four)\n",
    "- **function definition** (Python Data Science Toolbox - Part One, Module One)\n",
    "- **default arguments, variable length, and scope** (Python Data Science Toolbox - Part One, Module Two) \n",
    "- **lambda functions and error handling** (Python Data Science Toolbox - Part One, Module Four) "
   ]
  },
  {
   "cell_type": "markdown",
   "metadata": {
    "colab_type": "text",
    "id": "Ipgd2nV8Jpgl"
   },
   "source": [
    "## The Data Science Pipeline\n",
    "\n",
    "This is Tier Three, so we'll get you started. But after that, it's all in your hands! When you feel done with your investigations, look back over what you've accomplished, and prepare a quick presentation of your findings for the next mentor meeting. \n",
    "\n",
    "Data Science is magical. In this case study, you'll get to apply some complex machine learning algorithms. But as  [David Spiegelhalter](https://www.youtube.com/watch?v=oUs1uvsz0Ok) reminds us, there is no substitute for simply **taking a really, really good look at the data.** Sometimes, this is all we need to answer our question.\n",
    "\n",
    "Data Science projects generally adhere to the four stages of Data Science Pipeline:\n",
    "1. Sourcing and loading \n",
    "2. Cleaning, transforming, and visualizing \n",
    "3. Modeling \n",
    "4. Evaluating and concluding \n"
   ]
  },
  {
   "cell_type": "markdown",
   "metadata": {
    "colab_type": "text",
    "id": "zswDqbefJpgm"
   },
   "source": [
    "### 1. Sourcing and Loading \n",
    "\n",
    "Any Data Science project kicks off by importing  ***pandas***. The documentation of this wonderful library can be found [here](https://pandas.pydata.org/). As you've seen, pandas is conveniently connected to the [Numpy](http://www.numpy.org/) and [Matplotlib](https://matplotlib.org/) libraries. \n",
    "\n",
    "***Hint:*** This part of the data science pipeline will test those skills you acquired in the pandas Foundations course, Module One. "
   ]
  },
  {
   "cell_type": "markdown",
   "metadata": {
    "colab_type": "text",
    "id": "aEau5nEvJpgm"
   },
   "source": [
    "#### 1.1. Importing Libraries"
   ]
  },
  {
   "cell_type": "code",
   "execution_count": 57,
   "metadata": {
    "colab": {},
    "colab_type": "code",
    "id": "7Bt_Q_oPJpgn"
   },
   "outputs": [],
   "source": [
    "# Let's import the pandas, numpy libraries as pd, and np respectively. \n",
    "import pandas as pd\n",
    "\n",
    "# Load the pyplot collection of functions from matplotlib, as plt \n",
    "import matplotlib as plt\n"
   ]
  },
  {
   "cell_type": "markdown",
   "metadata": {
    "colab_type": "text",
    "id": "koUrawxsJpgq"
   },
   "source": [
    "#### 1.2.  Loading the data\n",
    "Your data comes from the [London Datastore](https://data.london.gov.uk/): a free, open-source data-sharing portal for London-oriented datasets. "
   ]
  },
  {
   "cell_type": "code",
   "execution_count": 58,
   "metadata": {
    "colab": {},
    "colab_type": "code",
    "id": "AiLiD4v3Jpgr"
   },
   "outputs": [],
   "source": [
    "# First, make a variable called url_LondonHousePrices, and assign it the following link, enclosed in quotation-marks as a string:\n",
    "# https://data.london.gov.uk/download/uk-house-price-index/70ac0766-8902-4eb5-aab5-01951aaed773/UK%20House%20price%20index.xls\n",
    "\n",
    "url_LondonHousePrices = \"https://data.london.gov.uk/download/uk-house-price-index/70ac0766-8902-4eb5-aab5-01951aaed773/UK%20House%20price%20index.xls\"\n",
    "\n",
    "# The dataset we're interested in contains the Average prices of the houses, and is actually on a particular sheet of the Excel file. \n",
    "# As a result, we need to specify the sheet name in the read_excel() method.\n",
    "# Put this data into a variable called properties.  \n",
    "properties = pd.read_excel(url_LondonHousePrices, sheet_name='Average price', index_col= None)"
   ]
  },
  {
   "cell_type": "markdown",
   "metadata": {
    "colab_type": "text",
    "id": "POukEJXgJpgu"
   },
   "source": [
    "### 2. Cleaning, transforming, and visualizing\n",
    "This second stage is arguably the most important part of any Data Science project. The first thing to do is take a proper look at the data. Cleaning forms the majority of this stage, and can be done both before or after Transformation.\n",
    "\n",
    "The end goal of data cleaning is to have tidy data. When data is tidy: \n",
    "\n",
    "1. Each variable has a column.\n",
    "2. Each observation forms a row.\n",
    "\n",
    "Keep the end goal in mind as you move through this process, every step will take you closer. \n",
    "\n",
    "\n",
    "\n",
    "***Hint:*** This part of the data science pipeline should test those skills you acquired in: \n",
    "- Intermediate Python for data science, all modules.\n",
    "- pandas Foundations, all modules. \n",
    "- Manipulating DataFrames with pandas, all modules.\n",
    "- Data Types for Data Science, Module Four.\n",
    "- Python Data Science Toolbox - Part One, all modules"
   ]
  },
  {
   "cell_type": "markdown",
   "metadata": {
    "colab_type": "text",
    "id": "Te0Q548tnzZa"
   },
   "source": [
    "**2.1. Exploring your data** \n",
    "\n",
    "Think about your pandas functions for checking out a dataframe. "
   ]
  },
  {
   "cell_type": "code",
   "execution_count": 59,
   "metadata": {
    "colab": {},
    "colab_type": "code",
    "id": "Rxirxw_qoAJa"
   },
   "outputs": [
    {
     "name": "stdout",
     "output_type": "stream",
     "text": [
      "Shape: (365, 49)\n",
      "Column levels: 2\n",
      "First 3 rows:\n",
      "  Unnamed: 0_level_0 City of London Barking & Dagenham    Barnet    Bexley  \\\n",
      "  Unnamed: 0_level_1      E09000001          E09000002 E09000003 E09000004   \n",
      "0         1995-01-01          90347              51870     98948     64956   \n",
      "1         1995-02-01          81213              52513     98848     64786   \n",
      "2         1995-03-01          78168              52701     97848     64366   \n",
      "\n",
      "      Brent   Bromley    Camden   Croydon    Ealing  ... NORTH WEST  \\\n",
      "  E09000005 E09000006 E09000007 E09000008 E09000009  ...  E12000002   \n",
      "0     76880     83082    119775     70118     85469  ...      40907   \n",
      "1     77651     83068    118365     69908     86551  ...      40877   \n",
      "2     77644     82856    119131     69666     87067  ...      41351   \n",
      "\n",
      "  YORKS & THE HUMBER EAST MIDLANDS WEST MIDLANDS EAST OF ENGLAND    LONDON  \\\n",
      "           E12000003     E12000004     E12000005       E12000006 E12000007   \n",
      "0              42171         43856         46470           56098     79687   \n",
      "1              41912         44344         47249           55991     77913   \n",
      "2              42544         43701         47345           55574     79110   \n",
      "\n",
      "  SOUTH EAST SOUTH WEST               England  \n",
      "   E12000008  E12000009 E12000009.1 E92000001  \n",
      "0      64502      52799         NaN     50231  \n",
      "1      64196      52462         NaN     50130  \n",
      "2      64597      51716         NaN     50229  \n",
      "\n",
      "[3 rows x 49 columns]\n"
     ]
    }
   ],
   "source": [
    "import pandas as pd\n",
    "import numpy as np\n",
    "import matplotlib.pyplot as plt\n",
    "\n",
    "# Read the 'Average price' sheet into a DataFrame named properties\n",
    "try:\n",
    "    properties = pd.read_excel(local_excel_path, sheet_name='Average price', header=[0,1])\n",
    "except Exception:\n",
    "    properties = pd.read_excel(url_LondonHousePrices, sheet_name='Average price', header=[0,1])\n",
    "\n",
    "# Basic exploration\n",
    "print('Shape:', properties.shape)\n",
    "print('Column levels:', properties.columns.nlevels)\n",
    "print('First 3 rows:')\n",
    "print(properties.head(3))"
   ]
  },
  {
   "cell_type": "markdown",
   "metadata": {
    "colab_type": "text",
    "id": "tE9Sqt9-oAta"
   },
   "source": [
    "**2.2. Cleaning the data**\n",
    "\n",
    "You might find you need to transpose your dataframe, check out what its row indexes are, and reset the index. You  also might find you need to assign the values of the first row to your column headings  . (Hint: recall the .columns feature of DataFrames, as well as the iloc[] method).\n",
    "\n",
    "Don't be afraid to use StackOverflow for help  with this."
   ]
  },
  {
   "cell_type": "code",
   "execution_count": 67,
   "metadata": {
    "colab": {},
    "colab_type": "code",
    "id": "cdAu1A3YoH_r"
   },
   "outputs": [],
   "source": [
    "# Identify the date column \n",
    "date_col = None\n",
    "for col in properties.columns:\n",
    "    if isinstance(col, tuple):\n",
    "        if str(col[0]).strip().lower() in ['', 'unnamed: 0_level_0', 'date', 'unnamed: 0'] or str(col[1]).strip().lower() == 'date':\n",
    "            date_col = col\n",
    "            break\n",
    "    else:\n",
    "        if str(col).strip().lower() == 'date':\n",
    "            date_col = col\n",
    "            break\n",
    "if date_col is None:\n",
    "    date_col = properties.columns[0]\n",
    "\n",
    "# Ensure datetime\n",
    "properties = properties.copy()\n",
    "properties[date_col] = pd.to_datetime(properties[date_col], errors='coerce')\n",
    "\n",
    "# Reset the index to be safe\n",
    "properties = properties.reset_index(drop=True)"
   ]
  },
  {
   "cell_type": "markdown",
   "metadata": {
    "colab_type": "text",
    "id": "o1uLbJAsoIjK"
   },
   "source": [
    "**2.3. Cleaning the data (part 2)**\n",
    "\n",
    "You might we have to **rename** a couple columns. How do you do this? The clue's pretty bold..."
   ]
  },
  {
   "cell_type": "code",
   "execution_count": 68,
   "metadata": {
    "colab": {},
    "colab_type": "code",
    "id": "GKkmn1AnoVZS"
   },
   "outputs": [],
   "source": [
    "# Helper list of 32 London boroughs\n",
    "known_boroughs = {\n",
    "    'City of London','Barking & Dagenham','Barnet','Bexley','Brent','Bromley','Camden','Croydon',\n",
    "    'Ealing','Enfield','Greenwich','Hackney','Hammersmith & Fulham','Haringey','Harrow','Havering',\n",
    "    'Hillingdon','Hounslow','Islington','Kensington & Chelsea','Kingston upon Thames','Lambeth',\n",
    "    'Lewisham','Merton','Newham','Redbridge','Richmond upon Thames','Southwark','Sutton','Tower Hamlets',\n",
    "    'Waltham Forest','Wandsworth','Westminster'\n",
    "}\n",
    "\n",
    "# Prepare to reshape: collect non-date columns\n",
    "value_cols = [c for c in properties.columns if c != date_col]\n",
    "\n",
    "# Helper to extract area name and code from columns (works for tuple or string headers)\n",
    "def col_meta(col):\n",
    "    if isinstance(col, tuple):\n",
    "        return str(col[0]).strip(), str(col[1]).strip()\n",
    "    else:\n",
    "        return str(col).strip(), ''\n",
    "\n",
    "areas = [col_meta(c) for c in value_cols]\n",
    "\n",
    "# Prefer to filter using E090 codes; fallback to name match if codes not present\n",
    "mask_london = [code.startswith('E090') for (_, code) in areas]\n",
    "if not any(mask_london):\n",
    "    mask_london = [name in known_boroughs for (name, _) in areas]\n",
    "\n",
    "london_cols = [c for c, keep in zip(value_cols, mask_london) if keep]\n",
    "\n"
   ]
  },
  {
   "cell_type": "markdown",
   "metadata": {
    "colab_type": "text",
    "id": "jy8BzXHmoWEw"
   },
   "source": [
    "**2.4.Transforming the data**\n",
    "\n",
    "Remember what Wes McKinney said about tidy data? \n",
    "\n",
    "You might need to **melt** your DataFrame here. "
   ]
  },
  {
   "cell_type": "code",
   "execution_count": 69,
   "metadata": {
    "colab": {},
    "colab_type": "code",
    "id": "S2wM0qLuo2Zt"
   },
   "outputs": [],
   "source": [
    "# Melt to long format\n",
    "df = properties[[date_col] + london_cols].copy()\n",
    "df_tidy = df.melt(id_vars=[date_col], var_name='Area', value_name='Average_Price')\n",
    "\n",
    "# Split the melted 'Area' into London_Borough and Code\n",
    "def split_area(a):\n",
    "    if isinstance(a, tuple):\n",
    "        return a[0], a[1]\n",
    "    return str(a), ''\n",
    "\n",
    "df_tidy['London_Borough'] = df_tidy['Area'].apply(lambda a: split_area(a)[0])\n",
    "df_tidy['Code'] = df_tidy['Area'].apply(lambda a: split_area(a)[1])\n",
    "df_tidy = df_tidy.rename(columns={date_col: 'Month'}).drop(columns=['Area'])\n",
    "\n",
    "\n",
    "# Ensure correct types\n",
    "df_tidy['Average_Price'] = pd.to_numeric(df_tidy['Average_Price'], errors='coerce')\n",
    "df_tidy = df_tidy.dropna(subset=['Month','Average_Price'])\n",
    "df_tidy['Year'] = df_tidy['Month'].dt.year"
   ]
  },
  {
   "cell_type": "markdown",
   "metadata": {
    "colab_type": "text",
    "id": "7kIsgAo7o3mf"
   },
   "source": [
    "Remember to make sure your column data types are all correct. Average prices, for example, should be floating point numbers... "
   ]
  },
  {
   "cell_type": "code",
   "execution_count": null,
   "metadata": {
    "colab": {},
    "colab_type": "code",
    "id": "ZcR4IHbcpOaq"
   },
   "outputs": [],
   "source": []
  },
  {
   "cell_type": "markdown",
   "metadata": {
    "colab_type": "text",
    "id": "knLUXHLypOtw"
   },
   "source": [
    "**2.5. Cleaning the data (part 3)**\n",
    "\n",
    "Do we have an equal number of observations in the ID, Average Price, Month, and London Borough columns? Remember that there are only 32 London Boroughs. How many entries do you have in that column? \n",
    "\n",
    "Check out the contents of the London Borough column, and if you find null values, get rid of them however you see fit. "
   ]
  },
  {
   "cell_type": "code",
   "execution_count": 70,
   "metadata": {
    "colab": {},
    "colab_type": "code",
    "id": "BnvTW5a3p0fC"
   },
   "outputs": [
    {
     "name": "stdout",
     "output_type": "stream",
     "text": [
      "Columns: ['Month', 'Average_Price', 'London_Borough', 'Code', 'Year']\n",
      "Rows: 12045\n",
      "Distinct London boroughs: 33\n",
      "       Month  Average_Price  London_Borough Code  Year\n",
      "0 1995-01-01        90347.0  City of London       1995\n",
      "1 1995-02-01        81213.0  City of London       1995\n",
      "2 1995-03-01        78168.0  City of London       1995\n"
     ]
    }
   ],
   "source": [
    "# Keep only rows for the 32 London boroughs\n",
    "df_tidy = df_tidy[df_tidy['London_Borough'].isin(known_boroughs)].copy()\n",
    "\n",
    "# Final tidy columns overview\n",
    "print('Columns:', df_tidy.columns.tolist())\n",
    "print('Rows:', len(df_tidy))\n",
    "print('Distinct London boroughs:', df_tidy['London_Borough'].nunique())\n",
    "print(df_tidy.head(3))\n"
   ]
  },
  {
   "cell_type": "markdown",
   "metadata": {
    "colab_type": "text",
    "id": "PGEx6mJsp6dG"
   },
   "source": [
    "**2.6. Visualizing the data**\n",
    "\n",
    "To visualize the data, why not subset on a particular London Borough? Maybe do a line plot of Month against Average Price?"
   ]
  },
  {
   "cell_type": "code",
   "execution_count": 71,
   "metadata": {
    "colab": {},
    "colab_type": "code",
    "id": "e0DF92cyqnu8"
   },
   "outputs": [
    {
     "data": {
      "image/png": "[encoded data removed]",
      "text/plain": [
       "<Figure size 800x400 with 1 Axes>"
      ]
     },
     "metadata": {},
     "output_type": "display_data"
    }
   ],
   "source": [
    "# Example: line plot for a single borough (Hackney)\n",
    "example_borough = 'Hackney'\n",
    "sub = df_tidy[df_tidy['London_Borough'] == example_borough].sort_values('Month')\n",
    "\n",
    "plt.figure(figsize=(8,4))\n",
    "plt.plot(sub['Month'], sub['Average_Price'])\n",
    "plt.title(example_borough)\n",
    "plt.xlabel('Month')\n",
    "plt.ylabel('Average Price')\n",
    "plt.tight_layout()\n",
    "plt.show()"
   ]
  },
  {
   "cell_type": "markdown",
   "metadata": {
    "colab_type": "text",
    "id": "aWTPqSJeqHnC"
   },
   "source": [
    "To limit the number of data points you have, you might want to extract the year from every month value your *Month* column. \n",
    "\n",
    "To this end, you *could* apply a ***lambda function***. Your logic could work as follows:\n",
    "1. look through the `Month` column\n",
    "2. extract the year from each individual value in that column \n",
    "3. store that corresponding year as separate column. \n",
    "\n",
    "Whether you go ahead with this is up to you. Just so long as you answer our initial brief: which boroughs of London have seen the greatest house price increase, on average, over the past two decades? "
   ]
  },
  {
   "cell_type": "markdown",
   "metadata": {
    "colab_type": "text",
    "id": "2knuTxAEqoJ4"
   },
   "source": [
    "**3. Modeling**\n",
    "\n",
    "Consider creating a function that will calculate a ratio of house prices, comparing the price of a house in 2018 to the price in 1998.\n",
    "\n",
    "Consider calling this function create_price_ratio.\n",
    "\n",
    "You'd want this function to:\n",
    "1. Take a filter of dfg, specifically where this filter constrains the London_Borough, as an argument. For example, one admissible argument should be: dfg[dfg['London_Borough']=='Camden'].\n",
    "2. Get the Average Price for that Borough, for the years 1998 and 2018.\n",
    "4. Calculate the ratio of the Average Price for 1998 divided by the Average Price for 2018.\n",
    "5. Return that ratio.\n",
    "\n",
    "Once you've written this function, you ultimately want to use it to iterate through all the unique London_Boroughs and work out the ratio capturing the difference of house prices between 1998 and 2018.\n",
    "\n",
    "Bear in mind: you don't have to write a function like this if you don't want to. If you can solve the brief otherwise, then great! \n",
    "\n",
    "***Hint***: This section should test the skills you acquired in:\n",
    "- Python Data Science Toolbox - Part One, all modules"
   ]
  },
  {
   "cell_type": "code",
   "execution_count": 72,
   "metadata": {
    "colab": {},
    "colab_type": "code",
    "id": "cKTyr437UgDa"
   },
   "outputs": [
    {
     "name": "stdout",
     "output_type": "stream",
     "text": [
      "         London_Borough  Increase_Factor_2018_vs_1998\n",
      "0               Hackney                      6.198334\n",
      "1        Waltham Forest                      5.835128\n",
      "2             Southwark                      5.516370\n",
      "3              Lewisham                      5.447926\n",
      "4           Westminster                      5.352731\n",
      "5                Newham                      5.307660\n",
      "6        City of London                      5.302624\n",
      "7              Haringey                      5.134551\n",
      "8  Kensington & Chelsea                      5.082174\n",
      "9               Lambeth                      4.958198\n"
     ]
    }
   ],
   "source": [
    "# Function to compute 2018 vs 1998 ratio for a borough\n",
    "def create_price_ratio(dfg, base_year=1998, comp_year=2018):\n",
    "    annual = dfg.groupby('Year', as_index=False)['Average_Price'].mean()\n",
    "    base = annual.loc[annual['Year'] == base_year, 'Average_Price']\n",
    "    comp = annual.loc[annual['Year'] == comp_year, 'Average_Price']\n",
    "    if base.empty or comp.empty or base.iloc[0] == 0:\n",
    "        return np.nan\n",
    "    return float(comp.iloc[0] / base.iloc[0])\n",
    "\n",
    "# Apply to all London boroughs\n",
    "ratios = []\n",
    "for b in sorted(df_tidy['London_Borough'].unique()):\n",
    "    r = create_price_ratio(df_tidy[df_tidy['London_Borough'] == b])\n",
    "    ratios.append((b, r))\n",
    "\n",
    "ratio_df = (pd.DataFrame(ratios, columns=['London_Borough','Increase_Factor_2018_vs_1998'])\n",
    "            .sort_values('Increase_Factor_2018_vs_1998', ascending=False)\n",
    "            .reset_index(drop=True))\n",
    "\n",
    "print(ratio_df.head(10))\n"
   ]
  },
  {
   "cell_type": "markdown",
   "metadata": {
    "colab_type": "text",
    "id": "NzYUI7FxJpgv"
   },
   "source": [
    "### 4. Conclusion\n",
    "What can you conclude? Type out your conclusion below. \n",
    "\n",
    "Look back at your notebook. Think about how you might summarize what you have done, and prepare a quick presentation on it to your mentor at your next meeting. \n",
    "\n",
    "We hope you enjoyed this practical project. It should have consolidated your data hygiene and pandas skills by looking at a real-world problem involving just the kind of dataset you might encounter as a budding data scientist. Congratulations, and looking forward to seeing you at the next step in the course! "
   ]
  },
  {
   "cell_type": "code",
   "execution_count": null,
   "metadata": {},
   "outputs": [],
   "source": [
    "Hackney, Waltham Forest, Southwark, Lewisham, and Westminster saw the highest price growth from 1998–2018, with Hackney’s prices rising over sixfold. This reflects regeneration, better transport, and shifting demand."
   ]
  }
 ],
 "metadata": {
  "colab": {
   "collapsed_sections": [],
   "name": "Springboard Data Science Career Track Unit 4 Challenge - Tier 3 Complete .ipynb",
   "provenance": []
  },
  "kernelspec": {
   "display_name": "Python [conda env:base] *",
   "language": "python",
   "name": "conda-base-py"
  },
  "language_info": {
   "codemirror_mode": {
    "name": "ipython",
    "version": 3
   },
   "file_extension": ".py",
   "mimetype": "text/x-python",
   "name": "python",
   "nbconvert_exporter": "python",
   "pygments_lexer": "ipython3",
   "version": "3.12.7"
  },
  "panel-cell-order": [
   "3dbf75d3",
   "90e9dcb5",
   "9e443cb4",
   "dbd7100e",
   "726d3a4d",
   "e49d18e5",
   "2a21f0b5",
   "75ce4131",
   "37f6993e",
   "15867730",
   "cba2a6d7",
   "ed729f69",
   "ca5c557d",
   "f84117aa",
   "625a0a56",
   "22754a9b",
   "c1f46496"
  ]
 },
 "nbformat": 4,
 "nbformat_minor": 4
}
